{
 "cells": [
  {
   "cell_type": "code",
   "execution_count": 1,
   "id": "64f04819",
   "metadata": {},
   "outputs": [
    {
     "name": "stdout",
     "output_type": "stream",
     "text": [
      "your first name is Nouha\n",
      "your last name is Hmida\n",
      "Hmida Nouha\n"
     ]
    }
   ],
   "source": [
    "#question1\n",
    "Prénom=input(\"your first name is \")\n",
    "Nom=input(\"your last name is \")\n",
    "print(Nom,Prénom)"
   ]
  },
  {
   "cell_type": "code",
   "execution_count": 2,
   "id": "efe0e1bc",
   "metadata": {},
   "outputs": [
    {
     "name": "stdout",
     "output_type": "stream",
     "text": [
      "choose your number 5\n",
      "615\n"
     ]
    }
   ],
   "source": [
    "#question2\n",
    "n=input(\"choose your number \")\n",
    "a=n+n\n",
    "b=n+n+n\n",
    "a=int(a)\n",
    "b=int(b)\n",
    "n=int(n)\n",
    "x=(n+a+b)\n",
    "print(x)"
   ]
  },
  {
   "cell_type": "code",
   "execution_count": 3,
   "id": "6e9de579",
   "metadata": {},
   "outputs": [
    {
     "name": "stdout",
     "output_type": "stream",
     "text": [
      "choose a number 581\n",
      "your number is odd\n"
     ]
    }
   ],
   "source": [
    "#question3\n",
    "n=int(input(\"choose a number \"))\n",
    "if n%2 ==0 :\n",
    "    print(\"your number is even\")\n",
    "else:\n",
    "    print(\"your number is odd\")"
   ]
  },
  {
   "cell_type": "code",
   "execution_count": 5,
   "id": "84d65a8b",
   "metadata": {},
   "outputs": [
    {
     "name": "stdout",
     "output_type": "stream",
     "text": [
      "2002 2009 2016 2023 2037 2044 2051 2058 2072 2079 2086 2093 2107 2114 2121 2128 2142 2149 2156 2163 2177 2184 2191 2198 2212 2219 2226 2233 2247 2254 2261 2268 2282 2289 2296 2303 2317 2324 2331 2338 2352 2359 2366 2373 2387 2394 2401 2408 2422 2429 2436 2443 2457 2464 2471 2478 2492 2499 2506 2513 2527 2534 2541 2548 2562 2569 2576 2583 2597 2604 2611 2618 2632 2639 2646 2653 2667 2674 2681 2688 2702 2709 2716 2723 2737 2744 2751 2758 2772 2779 2786 2793 2807 2814 2821 2828 2842 2849 2856 2863 2877 2884 2891 2898 2912 2919 2926 2933 2947 2954 2961 2968 2982 2989 2996 3003 3017 3024 3031 3038 3052 3059 3066 3073 3087 3094 3101 3108 3122 3129 3136 3143 3157 3164 3171 3178 3192 3199 "
     ]
    }
   ],
   "source": [
    "#question4\n",
    "for i in range(2000,3201):\n",
    "    if i%7 ==0 and i%5 !=0:\n",
    "        print(i, end = \" \")"
   ]
  },
  {
   "cell_type": "code",
   "execution_count": 6,
   "id": "b1d81551",
   "metadata": {},
   "outputs": [
    {
     "name": "stdout",
     "output_type": "stream",
     "text": [
      "write a number 8\n",
      "factorial is 40320\n"
     ]
    }
   ],
   "source": [
    "#question5\n",
    "n=int(input(\"write a number \"))\n",
    "f=1\n",
    "for i in range (1,n+1):\n",
    "    f=f*i\n",
    "print(\"factorial is\",f)"
   ]
  },
  {
   "cell_type": "code",
   "execution_count": 7,
   "id": "2ce40248",
   "metadata": {},
   "outputs": [
    {
     "name": "stdout",
     "output_type": "stream",
     "text": [
      "write a string hello team\n",
      " the new string is   hlota\n"
     ]
    }
   ],
   "source": [
    "#question6\n",
    "string=input(\"write a string \")\n",
    "new_string =\" \"\n",
    "for i in range(len(string)):\n",
    "    if i % 2 == 0:\n",
    "        new_string= new_string + string[i]\n",
    "print(\"the new string is \",new_string)"
   ]
  },
  {
   "cell_type": "code",
   "execution_count": 8,
   "id": "f7a56027",
   "metadata": {},
   "outputs": [
    {
     "name": "stdout",
     "output_type": "stream",
     "text": [
      "enter the price 800\n",
      "the new price is  400.0\n"
     ]
    }
   ],
   "source": [
    "#question7\n",
    "n=int(input(\"enter the price \"))\n",
    "if n >= 500:\n",
    "    j=n*0.5\n",
    "elif n < 500 and n >= 200:\n",
    "    j=n*0.7\n",
    "else:\n",
    "    j=n*0.9\n",
    "print(\"the new price is \",j)"
   ]
  },
  {
   "cell_type": "code",
   "execution_count": null,
   "id": "9ea8dbe0",
   "metadata": {},
   "outputs": [],
   "source": []
  }
 ],
 "metadata": {
  "kernelspec": {
   "display_name": "Python 3",
   "language": "python",
   "name": "python3"
  },
  "language_info": {
   "codemirror_mode": {
    "name": "ipython",
    "version": 3
   },
   "file_extension": ".py",
   "mimetype": "text/x-python",
   "name": "python",
   "nbconvert_exporter": "python",
   "pygments_lexer": "ipython3",
   "version": "3.8.8"
  }
 },
 "nbformat": 4,
 "nbformat_minor": 5
}
