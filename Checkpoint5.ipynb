{
 "cells": [
  {
   "cell_type": "markdown",
   "id": "fb96da08",
   "metadata": {},
   "source": [
    "Question1"
   ]
  },
  {
   "cell_type": "code",
   "execution_count": 1,
   "id": "67ba97c8",
   "metadata": {},
   "outputs": [
    {
     "name": "stdout",
     "output_type": "stream",
     "text": [
      "(1, 2, 3)\n"
     ]
    }
   ],
   "source": [
    "class Point3D:\n",
    "    def __init__(self, x, y, z):\n",
    "        self.x = x\n",
    "        self.y = y\n",
    "        self.z = z\n",
    "    def fct1 (self):\n",
    "        return (self.x, self.y, self.z)\n",
    "my_point = Point3D (1, 2, 3)\n",
    "print(my_point.fct1())"
   ]
  },
  {
   "cell_type": "markdown",
   "id": "ea3d607c",
   "metadata": {},
   "source": [
    "Question2"
   ]
  },
  {
   "cell_type": "code",
   "execution_count": 3,
   "id": "03405ccc",
   "metadata": {},
   "outputs": [
    {
     "name": "stdout",
     "output_type": "stream",
     "text": [
      "the area is  12 and the perimeter is  14\n"
     ]
    }
   ],
   "source": [
    "class Rectangle:\n",
    "    def __init__(self,l,w):\n",
    "        self.length=l\n",
    "        self.width=w\n",
    "    def area(self):\n",
    "        return (self.length*self.width)\n",
    "    def perimeter(self):\n",
    "        return (2*(self.length+self.width))\n",
    "my_rectangle=Rectangle(4,3)\n",
    "print(\"the area is \",my_rectangle.area(),\n",
    "      \"and the perimeter is \",my_rectangle.perimeter())"
   ]
  },
  {
   "cell_type": "markdown",
   "id": "0aeeb72b",
   "metadata": {},
   "source": [
    "Question3"
   ]
  },
  {
   "cell_type": "code",
   "execution_count": 4,
   "id": "922f3935",
   "metadata": {},
   "outputs": [
    {
     "name": "stdout",
     "output_type": "stream",
     "text": [
      "your point do not belong to the circle \n"
     ]
    }
   ],
   "source": [
    "import math\n",
    "class Circle:\n",
    "    def __init__(self,O,r):\n",
    "        self.center=O\n",
    "        self.radius=r\n",
    "    def area(self):\n",
    "        return (math.pi * (self.radius**2))\n",
    "    def perimeter(self):\n",
    "        return (math.pi * self.radius * 2)\n",
    "    def isInside(self,x,y):\n",
    "        if x == self.radius and y == self.radius:\n",
    "            print (\"your point belongs to the circle \")\n",
    "        else:\n",
    "            print (\"your point do not belong to the circle \")\n",
    "circle1 = Circle(\"O\", 5)\n",
    "circle1.isInside(5,4)"
   ]
  },
  {
   "cell_type": "markdown",
   "id": "e98bf7e2",
   "metadata": {},
   "source": [
    "Question4"
   ]
  },
  {
   "cell_type": "code",
   "execution_count": 5,
   "id": "9d4aef33",
   "metadata": {},
   "outputs": [
    {
     "name": "stdout",
     "output_type": "stream",
     "text": [
      "Enter the amount of deposit 2000\n",
      "Enter amount of withdraw 9000\n",
      "Insufficient balance\n"
     ]
    }
   ],
   "source": [
    "class Bank:\n",
    "    def __init__(self,b):\n",
    "        self.balance=b\n",
    "    def deposit(self):\n",
    "        amount = float(input(\"Enter the amount of deposit \"))\n",
    "        self.balance = self.balance + amount\n",
    "    def withdraw(self):\n",
    "        amount = float(input(\"Enter amount of withdraw \"))\n",
    "        if self.balance >= amount:\n",
    "            self.balance = self.balance - amount \n",
    "            print(\"the remaining amount is \",self.balance)\n",
    "        else:\n",
    "            print(\"Insufficient balance\")\n",
    "exp = Bank(5800)\n",
    "exp.deposit()\n",
    "exp.withdraw()"
   ]
  }
 ],
 "metadata": {
  "kernelspec": {
   "display_name": "Python 3",
   "language": "python",
   "name": "python3"
  },
  "language_info": {
   "codemirror_mode": {
    "name": "ipython",
    "version": 3
   },
   "file_extension": ".py",
   "mimetype": "text/x-python",
   "name": "python",
   "nbconvert_exporter": "python",
   "pygments_lexer": "ipython3",
   "version": "3.8.8"
  }
 },
 "nbformat": 4,
 "nbformat_minor": 5
}
