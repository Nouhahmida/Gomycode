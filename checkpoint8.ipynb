{
 "cells": [
  {
   "cell_type": "code",
   "execution_count": 8,
   "id": "cac11b65",
   "metadata": {},
   "outputs": [
    {
     "name": "stdout",
     "output_type": "stream",
     "text": [
      "What is Python language?                                                \n",
      "Python is a widely used high-level, general-purpose, interpreted, dynamic programming language.Its design philosophy emphasizes code readability, and its syntax allows programmers to express concepts in fewer lines of code than possible in \n",
      "languages such as C++ or Java. \n",
      "Python supports multiple programming paradigms, including object-oriented, imperative and functional programming or procedural styles. \n",
      "It features a dynamic type system and automatic memory management and has a large and comprehensive standard library.\n",
      "The best way we learn anything is by practice and exercise questions. \n",
      "We  have started this section for those (beginner to intermediate) who are familiar with Python.\n"
     ]
    },
    {
     "data": {
      "text/plain": [
       "<function TextIOWrapper.close()>"
      ]
     },
     "execution_count": 8,
     "metadata": {},
     "output_type": "execute_result"
    }
   ],
   "source": [
    "#q1\n",
    "f=open(\"python.txt\",\"r\")\n",
    "print(f.read())\n",
    "f.close"
   ]
  },
  {
   "cell_type": "code",
   "execution_count": 9,
   "id": "e9bc677b",
   "metadata": {},
   "outputs": [
    {
     "name": "stdout",
     "output_type": "stream",
     "text": [
      "nombre de premières lignes à afficher: 2\n",
      "FIRST LINES :  ['What is Python language?                                                \\n', 'Python is a widely used high-level, general-purpose, interpreted, dynamic programming language.Its design philosophy emphasizes code readability, and its syntax allows programmers to express concepts in fewer lines of code than possible in \\n']\n"
     ]
    },
    {
     "data": {
      "text/plain": [
       "<function TextIOWrapper.close()>"
      ]
     },
     "execution_count": 9,
     "metadata": {},
     "output_type": "execute_result"
    }
   ],
   "source": [
    "#q2\n",
    "f=open(\"python.txt\",\"r\")\n",
    "n=int(input(\"nombre de premières lignes à afficher: \"))\n",
    "lines=f.readlines()\n",
    "first_lines=lines[:n]\n",
    "print(\"FIRST LINES : \",first_lines)\n",
    "f.close"
   ]
  },
  {
   "cell_type": "code",
   "execution_count": 13,
   "id": "dc74408d",
   "metadata": {},
   "outputs": [
    {
     "name": "stdout",
     "output_type": "stream",
     "text": [
      "nombre de dernières lignes à afficher: 2\n",
      "LAST LINES :  ['The best way we learn anything is by practice and exercise questions. \\n', 'We  have started this section for those (beginner to intermediate) who are familiar with Python.']\n"
     ]
    },
    {
     "data": {
      "text/plain": [
       "<function TextIOWrapper.close()>"
      ]
     },
     "execution_count": 13,
     "metadata": {},
     "output_type": "execute_result"
    }
   ],
   "source": [
    "#q3\n",
    "f=open(\"python.txt\",\"r\")\n",
    "n=int(input(\"nombre de dernières lignes à afficher: \"))\n",
    "lines=f.readlines()\n",
    "last_lines=lines[-n:]\n",
    "print(\"LAST LINES : \",last_lines)\n",
    "f.close"
   ]
  },
  {
   "cell_type": "code",
   "execution_count": 11,
   "id": "578597e9",
   "metadata": {},
   "outputs": [
    {
     "name": "stdout",
     "output_type": "stream",
     "text": [
      "Number of words in text file : 101\n"
     ]
    },
    {
     "data": {
      "text/plain": [
       "<function TextIOWrapper.close()>"
      ]
     },
     "execution_count": 11,
     "metadata": {},
     "output_type": "execute_result"
    }
   ],
   "source": [
    "#q4\n",
    "f=open(\"python.txt\",\"r\")\n",
    "data = f.read()\n",
    "words = data.split()\n",
    "print('Number of words in text file :', len(words))\n",
    "f.close"
   ]
  }
 ],
 "metadata": {
  "kernelspec": {
   "display_name": "Python 3",
   "language": "python",
   "name": "python3"
  },
  "language_info": {
   "codemirror_mode": {
    "name": "ipython",
    "version": 3
   },
   "file_extension": ".py",
   "mimetype": "text/x-python",
   "name": "python",
   "nbconvert_exporter": "python",
   "pygments_lexer": "ipython3",
   "version": "3.8.8"
  }
 },
 "nbformat": 4,
 "nbformat_minor": 5
}
