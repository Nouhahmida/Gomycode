{
 "cells": [
  {
   "cell_type": "markdown",
   "id": "9f172628",
   "metadata": {},
   "source": [
    "Question1"
   ]
  },
  {
   "cell_type": "code",
   "execution_count": 1,
   "id": "c16c4d36",
   "metadata": {},
   "outputs": [
    {
     "name": "stdout",
     "output_type": "stream",
     "text": [
      "[[1 2 3 4]\n",
      " [5 6 7 8]]\n",
      "[[1, 2, 3, 4], [5, 6, 7, 8]]\n"
     ]
    }
   ],
   "source": [
    "import numpy as np\n",
    "array1 = np.array([[1,2,3,4],[5,6,7,8]])\n",
    "print(array1)\n",
    "list1 = array1.tolist()\n",
    "print(list1)"
   ]
  },
  {
   "cell_type": "markdown",
   "id": "e4c76032",
   "metadata": {},
   "source": [
    "Question2"
   ]
  },
  {
   "cell_type": "code",
   "execution_count": 2,
   "id": "60548ab9",
   "metadata": {},
   "outputs": [
    {
     "name": "stdout",
     "output_type": "stream",
     "text": [
      "the sum of the diagonal elements of the array is  8\n"
     ]
    }
   ],
   "source": [
    "import numpy as np\n",
    "array2 = np.array([[5,7,9],[3,2,1],[6,5,1]])\n",
    "trace = np.trace(array2) #5+3+1=8\n",
    "print(\"the sum of the diagonal elements of the array is \",trace)"
   ]
  },
  {
   "cell_type": "markdown",
   "id": "f4624134",
   "metadata": {},
   "source": [
    "Question3"
   ]
  },
  {
   "cell_type": "code",
   "execution_count": 3,
   "id": "61ed1a8e",
   "metadata": {},
   "outputs": [
    {
     "name": "stdout",
     "output_type": "stream",
     "text": [
      "Enter the value of x 2\n",
      "Values bigger than x = [3 5]\n"
     ]
    }
   ],
   "source": [
    "import numpy as np\n",
    "array3 = np.array([[1,2],[3,5]])\n",
    "x=int(input(\"Enter the value of x \"))\n",
    "print(\"Values bigger than x =\", array3[array3>x])"
   ]
  },
  {
   "cell_type": "markdown",
   "id": "12ecd50e",
   "metadata": {},
   "source": [
    "Question4"
   ]
  },
  {
   "cell_type": "code",
   "execution_count": 4,
   "id": "f5e663a9",
   "metadata": {},
   "outputs": [
    {
     "name": "stdout",
     "output_type": "stream",
     "text": [
      "[array([ 8, 12, 13]), array([18,  4,  4])]\n"
     ]
    }
   ],
   "source": [
    "import numpy as np\n",
    "A = np.array([[5,10,12],[15,2,3]])\n",
    "B = np.array([[3,2,1],[1,4,7]])\n",
    "C = ([])\n",
    "k =0\n",
    "for i in A:\n",
    "    j = i + B[k]\n",
    "    C.append(j)\n",
    "    k == k+1\n",
    "print(C)"
   ]
  },
  {
   "cell_type": "code",
   "execution_count": null,
   "id": "557ef6ae",
   "metadata": {},
   "outputs": [],
   "source": [
    "Question5"
   ]
  },
  {
   "cell_type": "code",
   "execution_count": 5,
   "id": "ec6da39b",
   "metadata": {},
   "outputs": [
    {
     "name": "stdout",
     "output_type": "stream",
     "text": [
      "[4.  9.5 8.5]\n"
     ]
    }
   ],
   "source": [
    "import numpy as np\n",
    "A=np.array([[3,5],[9,10],[12,5]])\n",
    "B=np.mean (A, axis=1)\n",
    "print(B)"
   ]
  }
 ],
 "metadata": {
  "kernelspec": {
   "display_name": "Python 3",
   "language": "python",
   "name": "python3"
  },
  "language_info": {
   "codemirror_mode": {
    "name": "ipython",
    "version": 3
   },
   "file_extension": ".py",
   "mimetype": "text/x-python",
   "name": "python",
   "nbconvert_exporter": "python",
   "pygments_lexer": "ipython3",
   "version": "3.8.8"
  }
 },
 "nbformat": 4,
 "nbformat_minor": 5
}
