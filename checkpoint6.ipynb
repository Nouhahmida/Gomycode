{
 "cells": [
  {
   "cell_type": "markdown",
   "id": "ad03f677",
   "metadata": {},
   "source": [
    "Question1"
   ]
  },
  {
   "cell_type": "code",
   "execution_count": 1,
   "id": "33648d0c",
   "metadata": {},
   "outputs": [
    {
     "name": "stdout",
     "output_type": "stream",
     "text": [
      "[[1 2 3 4]\n",
      " [5 6 7 8]]\n",
      "[[1, 2, 3, 4], [5, 6, 7, 8]]\n"
     ]
    }
   ],
   "source": [
    "import numpy as np\n",
    "array1 = np.array([[1,2,3,4],[5,6,7,8]])\n",
    "print(array1)\n",
    "list1 = array1.tolist()\n",
    "print(list1)"
   ]
  },
  {
   "cell_type": "markdown",
   "id": "5a176f5e",
   "metadata": {},
   "source": [
    "Question2"
   ]
  },
  {
   "cell_type": "code",
   "execution_count": 2,
   "id": "6bd3565c",
   "metadata": {},
   "outputs": [
    {
     "name": "stdout",
     "output_type": "stream",
     "text": [
      "the sum of the diagonal elements of the array is  8\n"
     ]
    }
   ],
   "source": [
    "import numpy as np\n",
    "array2 = np.array([[5,7,9],[3,2,1],[6,5,1]])\n",
    "trace = np.trace(array2) #5+3+1=8\n",
    "print(\"the sum of the diagonal elements of the array is \",trace)"
   ]
  },
  {
   "cell_type": "markdown",
   "id": "ba491e07",
   "metadata": {},
   "source": [
    "Question3"
   ]
  },
  {
   "cell_type": "code",
   "execution_count": 3,
   "id": "def66fe5",
   "metadata": {},
   "outputs": [
    {
     "name": "stdout",
     "output_type": "stream",
     "text": [
      "Enter the value of x 2\n",
      "Values bigger than x = [3 5]\n"
     ]
    }
   ],
   "source": [
    "import numpy as np\n",
    "array3 = np.array([[1,2],[3,5]])\n",
    "x=int(input(\"Enter the value of x \"))\n",
    "print(\"Values bigger than x =\", array3[array3>x])"
   ]
  },
  {
   "cell_type": "markdown",
   "id": "b92d88df",
   "metadata": {},
   "source": [
    "Question4"
   ]
  },
  {
   "cell_type": "code",
   "execution_count": 4,
   "id": "f2e505b4",
   "metadata": {},
   "outputs": [
    {
     "name": "stdout",
     "output_type": "stream",
     "text": [
      "[array([ 8, 12, 13]), array([18,  4,  4])]\n"
     ]
    }
   ],
   "source": [
    "import numpy as np\n",
    "A = np.array([[5,10,12],[15,2,3]])\n",
    "B = np.array([[3,2,1],[1,4,7]])\n",
    "C = ([])\n",
    "k =0\n",
    "for i in A:\n",
    "    j = i + B[k]\n",
    "    C.append(j)\n",
    "    k == k+1\n",
    "print(C)"
   ]
  },
  {
   "cell_type": "markdown",
   "id": "2062c52b",
   "metadata": {},
   "source": [
    "Question5"
   ]
  },
  {
   "cell_type": "code",
   "execution_count": 5,
   "id": "096d8c6a",
   "metadata": {},
   "outputs": [
    {
     "name": "stdout",
     "output_type": "stream",
     "text": [
      "[4.  9.5 8.5]\n"
     ]
    }
   ],
   "source": [
    "import numpy as np\n",
    "A=np.array([[3,5],[9,10],[12,5]])\n",
    "B=np.mean (A, axis=1)\n",
    "print(B)"
   ]
  }
 ],
 "metadata": {
  "kernelspec": {
   "display_name": "Python 3",
   "language": "python",
   "name": "python3"
  },
  "language_info": {
   "codemirror_mode": {
    "name": "ipython",
    "version": 3
   },
   "file_extension": ".py",
   "mimetype": "text/x-python",
   "name": "python",
   "nbconvert_exporter": "python",
   "pygments_lexer": "ipython3",
   "version": "3.8.8"
  }
 },
 "nbformat": 4,
 "nbformat_minor": 5
}
