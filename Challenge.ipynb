{
 "cells": [
  {
   "cell_type": "markdown",
   "id": "c92c3556",
   "metadata": {},
   "source": [
    "Is the Number a Repdigit "
   ]
  },
  {
   "cell_type": "code",
   "execution_count": 1,
   "id": "660da420",
   "metadata": {},
   "outputs": [
    {
     "name": "stdout",
     "output_type": "stream",
     "text": [
      "your number is not repdigit\n"
     ]
    }
   ],
   "source": [
    "def repdigit(a):\n",
    "    if a>0:\n",
    "        a=str(a)\n",
    "        n=0\n",
    "        for i in range(len(a)):  \n",
    "            for j in range(i+1, len(a)):  \n",
    "                if a[i] != a[j] :\n",
    "                    n=-1\n",
    "    if n ==-1:\n",
    "        print(\"your number is not repdigit\")\n",
    "    else:\n",
    "        print(\"your number is repdigit\")\n",
    "repdigit(98888)"
   ]
  },
  {
   "cell_type": "markdown",
   "id": "e0088fa3",
   "metadata": {},
   "source": [
    "All Occurrences of an Element in a List"
   ]
  },
  {
   "cell_type": "code",
   "execution_count": 2,
   "id": "1a734e74",
   "metadata": {},
   "outputs": [
    {
     "name": "stdout",
     "output_type": "stream",
     "text": [
      "{'a': 4, 'b': 4}\n"
     ]
    }
   ],
   "source": [
    "dict1={}\n",
    "def occurences(liste):\n",
    "    for i in range(len(liste)):\n",
    "        n=0\n",
    "        for j in range(len(liste)):\n",
    "            if liste[i]==liste[j]:\n",
    "                n=n+1\n",
    "                dict1[liste[i]]=n\n",
    "    print(dict1)\n",
    "occurences([\"a\", \"a\", \"b\", \"a\", \"b\", \"a\" , \"b\" , \"b\"])"
   ]
  },
  {
   "cell_type": "markdown",
   "id": "a5449639",
   "metadata": {},
   "source": [
    "Construct and Deconstruct"
   ]
  },
  {
   "cell_type": "code",
   "execution_count": 5,
   "id": "9f279aed",
   "metadata": {},
   "outputs": [
    {
     "name": "stdout",
     "output_type": "stream",
     "text": [
      "['h', 'he', 'hel', 'hell', 'hello', 'hell', 'hel', 'he', 'h', '']\n"
     ]
    }
   ],
   "source": [
    "def construct_deconstruct (ch):\n",
    "    ch1=list(ch)\n",
    "    ch2=list(ch)\n",
    "    for i in range(1,len(ch)):\n",
    "        ch1[i]=ch[0:i+1]\n",
    "    for j in range (len(ch)):\n",
    "        ch2[j]=ch[0:len(ch)-j-1]\n",
    "    ch3=ch1+ch2\n",
    "    print(ch3)\n",
    "construct_deconstruct(\"hello\")"
   ]
  },
  {
   "cell_type": "markdown",
   "id": "01d450cd",
   "metadata": {},
   "source": [
    "Mystery_func"
   ]
  },
  {
   "cell_type": "code",
   "execution_count": 3,
   "id": "6c53d47b",
   "metadata": {},
   "outputs": [
    {
     "name": "stdout",
     "output_type": "stream",
     "text": [
      "48\n"
     ]
    }
   ],
   "source": [
    "def myst(num):\n",
    "    num=str(num)\n",
    "    num=list(num)\n",
    "    res=1\n",
    "    for i in num:\n",
    "        i=int(i)\n",
    "        res=res*i\n",
    "    print(res)\n",
    "myst(832)"
   ]
  },
  {
   "cell_type": "markdown",
   "id": "a2568ccc",
   "metadata": {},
   "source": [
    "Move zeros"
   ]
  },
  {
   "cell_type": "code",
   "execution_count": 4,
   "id": "cbd0e230",
   "metadata": {},
   "outputs": [
    {
     "name": "stdout",
     "output_type": "stream",
     "text": [
      "[1, 2, 3, 1, 0, 0, 0]\n"
     ]
    }
   ],
   "source": [
    "def move(liste):\n",
    "    for i in range(len(liste)):\n",
    "        if liste[i]==0:\n",
    "            liste.append(liste[i])\n",
    "            del liste[i]\n",
    "    print(liste)\n",
    "move([0, 1, 0, 2, 3 , 1, 0])"
   ]
  }
 ],
 "metadata": {
  "kernelspec": {
   "display_name": "Python 3",
   "language": "python",
   "name": "python3"
  },
  "language_info": {
   "codemirror_mode": {
    "name": "ipython",
    "version": 3
   },
   "file_extension": ".py",
   "mimetype": "text/x-python",
   "name": "python",
   "nbconvert_exporter": "python",
   "pygments_lexer": "ipython3",
   "version": "3.8.8"
  }
 },
 "nbformat": 4,
 "nbformat_minor": 5
}
