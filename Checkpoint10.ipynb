{
 "cells": [
  {
   "cell_type": "code",
   "execution_count": 1,
   "id": "02999507",
   "metadata": {},
   "outputs": [
    {
     "data": {
      "text/plain": [
       "14"
      ]
     },
     "execution_count": 1,
     "metadata": {},
     "output_type": "execute_result"
    }
   ],
   "source": [
    "mylist=[14, \"hello\", 967]\n",
    "#mylist[6]\n",
    "#IndexError:trying to access an item at an invalid index.\n",
    "#rectification: choose 0 or 1 or 2 as index\n",
    "mylist[0]"
   ]
  },
  {
   "cell_type": "code",
   "execution_count": 2,
   "id": "7cc6d784",
   "metadata": {},
   "outputs": [],
   "source": [
    "#import Pandas\n",
    "#import NumPy\n",
    "#ImportError:No module named Pandas or NumPy\n",
    "#rectification : names are lower cased\n",
    "import pandas\n",
    "import numpy"
   ]
  },
  {
   "cell_type": "code",
   "execution_count": 3,
   "id": "f8863d02",
   "metadata": {},
   "outputs": [
    {
     "name": "stdout",
     "output_type": "stream",
     "text": [
      "python errors\n"
     ]
    }
   ],
   "source": [
    "#Print\"python errors\"\n",
    "#SyntaxError:when a syntax error is encountered.\n",
    "#rectification: add parentheses\n",
    "print(\"python errors\")"
   ]
  },
  {
   "cell_type": "code",
   "execution_count": 4,
   "id": "f0085775",
   "metadata": {},
   "outputs": [
    {
     "data": {
      "text/plain": [
       "'hello'"
      ]
     },
     "execution_count": 4,
     "metadata": {},
     "output_type": "execute_result"
    }
   ],
   "source": [
    "#mydictionnary={True:\"hello\",False:\"bye\", '3':\"python\"}\n",
    "#mydictionnary['True']\n",
    "#KeyError:thrown when a key is not found.\n",
    "#rectification: remove the ' '\n",
    "mydictionnary={True:\"hello\",False:\"bye\", '3':\"python\"}\n",
    "mydictionnary[True]"
   ]
  },
  {
   "cell_type": "code",
   "execution_count": 5,
   "id": "369f702b",
   "metadata": {},
   "outputs": [
    {
     "name": "stdout",
     "output_type": "stream",
     "text": [
      "14\n",
      "15\n",
      "16\n",
      "17\n",
      "18\n",
      "19\n",
      "20\n",
      "21\n",
      "22\n",
      "23\n",
      "24\n",
      "25\n",
      "26\n",
      "27\n",
      "28\n",
      "29\n",
      "30\n",
      "31\n",
      "32\n",
      "33\n",
      "34\n",
      "35\n",
      "36\n",
      "37\n",
      "38\n",
      "39\n",
      "40\n",
      "41\n",
      "42\n",
      "43\n",
      "44\n",
      "45\n",
      "46\n",
      "47\n",
      "48\n",
      "49\n",
      "50\n",
      "51\n",
      "52\n",
      "53\n",
      "54\n",
      "55\n",
      "56\n",
      "57\n",
      "58\n",
      "59\n",
      "60\n",
      "61\n",
      "62\n",
      "63\n",
      "64\n",
      "65\n",
      "66\n",
      "67\n",
      "68\n",
      "69\n",
      "70\n",
      "71\n",
      "72\n",
      "73\n",
      "74\n",
      "75\n",
      "76\n",
      "77\n"
     ]
    }
   ],
   "source": [
    "#i=14\n",
    "#while i<78:\n",
    "#print(i)\n",
    "#i+=1\n",
    "#IndentationError:thrown when an incorrect indentation is occured.\n",
    "#rectification:\n",
    "i=14\n",
    "while i<78:\n",
    "    print(i)\n",
    "    i+=1"
   ]
  },
  {
   "cell_type": "code",
   "execution_count": 6,
   "id": "24716da3",
   "metadata": {},
   "outputs": [
    {
     "data": {
      "text/plain": [
       "3"
      ]
     },
     "execution_count": 6,
     "metadata": {},
     "output_type": "execute_result"
    }
   ],
   "source": [
    "#it=iter([1,2,3])\n",
    "#next(it)\n",
    "#next(it)\n",
    "#next(it)\n",
    "#next(it)\n",
    "#StopIteration:thrown when the next() function goes beyond the iterator items.\n",
    "#rectification: remove the last next(it)\n",
    "it=iter([1,2,3])\n",
    "next(it)\n",
    "next(it)\n",
    "next(it)"
   ]
  },
  {
   "cell_type": "code",
   "execution_count": 7,
   "id": "2d6cbb88",
   "metadata": {},
   "outputs": [
    {
     "data": {
      "text/plain": [
       "30"
      ]
     },
     "execution_count": 7,
     "metadata": {},
     "output_type": "execute_result"
    }
   ],
   "source": [
    "#'15'+15\n",
    "#TypeError:thrown when an operation or function is applied to an object of an inappropriate type.\n",
    "#rectification: add int before '15' or remove the ' '\n",
    "int(\"15\")+15"
   ]
  },
  {
   "cell_type": "code",
   "execution_count": 8,
   "id": "79f672a7",
   "metadata": {},
   "outputs": [
    {
     "data": {
      "text/plain": [
       "20"
      ]
     },
     "execution_count": 8,
     "metadata": {},
     "output_type": "execute_result"
    }
   ],
   "source": [
    "#int('python')\n",
    "#ValueError:thrown when a function's argument is of an inappropriate type.\n",
    "#rectification:\n",
    "int(\"20\")"
   ]
  },
  {
   "cell_type": "code",
   "execution_count": 9,
   "id": "4bd7e45f",
   "metadata": {},
   "outputs": [
    {
     "data": {
      "text/plain": [
       "'python'"
      ]
     },
     "execution_count": 9,
     "metadata": {},
     "output_type": "execute_result"
    }
   ],
   "source": [
    "#python\n",
    "#NameError:thrown when an object could not be found.\n",
    "#rectification : assigning the word \"python\" to a variable\n",
    "x=\"python\"\n",
    "x"
   ]
  },
  {
   "cell_type": "code",
   "execution_count": 10,
   "id": "213a67f6",
   "metadata": {},
   "outputs": [],
   "source": [
    "#x=19/0\n",
    "#ZeroDivisionError:thrown when the second operator in the division is zero.\n",
    "#rectification:\n",
    "x=19/1"
   ]
  }
 ],
 "metadata": {
  "kernelspec": {
   "display_name": "Python 3",
   "language": "python",
   "name": "python3"
  },
  "language_info": {
   "codemirror_mode": {
    "name": "ipython",
    "version": 3
   },
   "file_extension": ".py",
   "mimetype": "text/x-python",
   "name": "python",
   "nbconvert_exporter": "python",
   "pygments_lexer": "ipython3",
   "version": "3.8.8"
  }
 },
 "nbformat": 4,
 "nbformat_minor": 5
}
