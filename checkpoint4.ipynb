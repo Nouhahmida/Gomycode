{
 "cells": [
  {
   "cell_type": "markdown",
   "id": "c93f3dbd",
   "metadata": {},
   "source": [
    "Question1"
   ]
  },
  {
   "cell_type": "code",
   "execution_count": 1,
   "id": "1c557a89",
   "metadata": {},
   "outputs": [
    {
     "name": "stdout",
     "output_type": "stream",
     "text": [
      "35\n"
     ]
    }
   ],
   "source": [
    "def my_max (a,b,c):\n",
    "    if a > b and a > c:\n",
    "        return (a)\n",
    "    elif b > a and b > c:\n",
    "        return (b)\n",
    "    elif c > a and c > b:\n",
    "        return (c)\n",
    "print(my_max(20,35,19))"
   ]
  },
  {
   "cell_type": "markdown",
   "id": "552e5ae1",
   "metadata": {},
   "source": [
    "Question2"
   ]
  },
  {
   "cell_type": "code",
   "execution_count": 2,
   "id": "d580e5a9",
   "metadata": {},
   "outputs": [
    {
     "name": "stdout",
     "output_type": "stream",
     "text": [
      "(50, 30)\n"
     ]
    }
   ],
   "source": [
    "def calculation(a,b): return a+b, a-b\n",
    "print (calculation(40,10))"
   ]
  },
  {
   "cell_type": "markdown",
   "id": "9b93a352",
   "metadata": {},
   "source": [
    "Question3"
   ]
  },
  {
   "cell_type": "code",
   "execution_count": 4,
   "id": "fe75d48b",
   "metadata": {},
   "outputs": [
    {
     "name": "stdout",
     "output_type": "stream",
     "text": [
      "La somme des éléments de la liste est  79\n",
      "Le produit des éléments de la liste est  7884800\n",
      "liste1 =  [2, 5, 7, 4]\n",
      "liste2 =  [8, 10, 11, 32]\n",
      "La somme des éléments pairs est  18\n",
      "Le produit des éléments impairs est  28160\n"
     ]
    }
   ],
   "source": [
    "maliste=[2,8,5,10,7,11,4,32]\n",
    "liste1=[]\n",
    "liste2=[]\n",
    "#first_step\n",
    "def somme(liste):  \n",
    "    s = 0\n",
    "    for i in liste:\n",
    "        s = s + i  \n",
    "    return s\n",
    "print(\"La somme des éléments de la liste est \",somme(maliste))\n",
    "#second_step\n",
    "def produit(liste):  \n",
    "    p = 1\n",
    "    for i in liste:\n",
    "        p = p * i  \n",
    "    return p\n",
    "print(\"Le produit des éléments de la liste est \",produit(maliste))\n",
    "#third_step\n",
    "for i in range(len(maliste)):\n",
    "    if i % 2 == 0 :\n",
    "        liste1.append(maliste[i])\n",
    "    else:\n",
    "        liste2.append(maliste[i])\n",
    "print(\"liste1 = \",liste1)\n",
    "print(\"liste2 = \",liste2)\n",
    "print(\"La somme des éléments pairs est \",somme(liste1))\n",
    "print(\"Le produit des éléments impairs est \",produit(liste2))"
   ]
  },
  {
   "cell_type": "markdown",
   "id": "a82e472f",
   "metadata": {},
   "source": [
    "Question4"
   ]
  },
  {
   "cell_type": "code",
   "execution_count": 9,
   "id": "7533f051",
   "metadata": {},
   "outputs": [
    {
     "name": "stdout",
     "output_type": "stream",
     "text": [
      "enter a hyphen-separated sequence of words green-red-yellow-black-white\n",
      "black - green - red - white - yellow - "
     ]
    }
   ],
   "source": [
    "words=input(\"enter a hyphen-separated sequence of words \").split(\"-\")\n",
    "words.sort()\n",
    "for i in words:\n",
    "    print(i +\" -\", end=\" \")"
   ]
  },
  {
   "cell_type": "markdown",
   "id": "b18e744c",
   "metadata": {},
   "source": [
    "Question5 (bonus)"
   ]
  },
  {
   "cell_type": "code",
   "execution_count": 1,
   "id": "f7749ab6",
   "metadata": {},
   "outputs": [
    {
     "name": "stdout",
     "output_type": "stream",
     "text": [
      "enter the different values of D 100,150,180\n",
      "[18, 22, 24]\n"
     ]
    }
   ],
   "source": [
    "import math\n",
    "numbers = input(\"enter the different values of D \")\n",
    "numbers = numbers.split(',')\n",
    "results = []\n",
    "def la_fonction (liste) :\n",
    "    for D in liste:\n",
    "        Q = round(math.sqrt(2 * 50 * int(D) / 30))\n",
    "        results.append(Q)\n",
    "    return(results)\n",
    "print(la_fonction(numbers))"
   ]
  },
  {
   "cell_type": "code",
   "execution_count": null,
   "id": "3e38bf25",
   "metadata": {},
   "outputs": [],
   "source": []
  },
  {
   "cell_type": "code",
   "execution_count": null,
   "id": "b44d5541",
   "metadata": {},
   "outputs": [],
   "source": []
  }
 ],
 "metadata": {
  "kernelspec": {
   "display_name": "Python 3",
   "language": "python",
   "name": "python3"
  },
  "language_info": {
   "codemirror_mode": {
    "name": "ipython",
    "version": 3
   },
   "file_extension": ".py",
   "mimetype": "text/x-python",
   "name": "python",
   "nbconvert_exporter": "python",
   "pygments_lexer": "ipython3",
   "version": "3.8.8"
  }
 },
 "nbformat": 4,
 "nbformat_minor": 5
}
